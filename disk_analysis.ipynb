{
 "cells": [
  {
   "attachments": {},
   "cell_type": "markdown",
   "metadata": {},
   "source": [
    "## Disk Space Analysis"
   ]
  },
  {
   "attachments": {},
   "cell_type": "markdown",
   "metadata": {},
   "source": [
    "### shell commands\n",
    "\n",
    "```shell\n",
    "# Run Shell Commands Before Processing\n",
    "\n",
    "# disk data\n",
    "df -h | perl -pne 's/ +/,/g' > disk_data.txt\n",
    "# df -H > disk_data.txt\n",
    "# # sorted for disk processing\n",
    "# sort +8 -d -o disk_space.txt disk_data.txt\n",
    "```\n",
    "\n"
   ]
  },
  {
   "attachments": {},
   "cell_type": "markdown",
   "metadata": {},
   "source": [
    "### Disk Space Processing"
   ]
  },
  {
   "cell_type": "code",
   "execution_count": 60,
   "metadata": {},
   "outputs": [
    {
     "name": "stdout",
     "output_type": "stream",
     "text": [
      "   mount      size      used     avail   \n",
      "/ 500G 15G 29G\n",
      "/System/Volumes/Data 500G 441G 29G\n",
      "/System/Volumes/Preboot 500G 867M 29G\n",
      "/System/Volumes/Update 500G 9.9M 29G\n",
      "/System/Volumes/VM 500G 2.1G 29G\n",
      "/Volumes/0-ARCH 5.0T 2.9T 2.1T\n",
      "/Volumes/0-ARCHBack 5.0T 2.3T 2.7T\n",
      "/Volumes/0-HDBACK 3.0T 958k 98G\n",
      "/Volumes/0-HDOff 3.0T 819k 32G\n",
      "/Volumes/0-Mac5KCont 4.0T 94G 1.5T\n",
      "/Volumes/0-SSD 121G 778k 121G\n",
      "/Volumes/0-SSDBoot 500G 782k 29G\n",
      "/Volumes/1-Backup-Mac5KBoot 4.0T 288G 1.5T\n",
      "/Volumes/1-Dev 4.0T 13G 1.5T\n",
      "/Volumes/1-EagleFiler 3.0T 147G 32G\n",
      "/Volumes/1-Johntelford 4.0T 184G 1.5T\n",
      "/Volumes/1-Lightroom 3.0T 415G 98G\n",
      "/Volumes/1-LightroomLib 3.0T 105G 32G\n",
      "/Volumes/1-Media 4.0T 1.9T 1.5T\n",
      "/Volumes/1-iA-Writer 3.0T 207M 32G\n",
      "/Volumes/2-Backup-Mac5KBoot 3.0T 285G 98G\n",
      "/Volumes/2-Dev 3.0T 29G 32G\n",
      "/Volumes/2-EagleFiler 3.0T 148G 98G\n",
      "/Volumes/2-Lightroom 3.0T 416G 32G\n",
      "/Volumes/2-LightroomLib 3.0T 105G 98G\n",
      "/Volumes/2-Media 3.0T 2.0T 32G\n",
      "/Volumes/2-iA-Writer 3.0T 171M 98G\n",
      "/Volumes/3-Backup-Mac5KBoot 3.0T 287G 32G\n",
      "/Volumes/3-Dev 3.0T 12G 98G\n",
      "/Volumes/3-IA-Writer 4.0T 43M 1.5T\n",
      "/Volumes/3-Media 3.0T 1.9T 98G\n",
      "/Volumes/5KTimeMachine 999G 768G 231G\n",
      "/Volumes/Dev 500G 11G 29G\n",
      "/Volumes/Q-Lightroom 4.0T 89M 1.5T\n",
      "/Volumes/books 4.0T 19G 1.5T\n",
      "/Volumes/nzb 4.0T 3.1G 1.5T\n"
     ]
    },
    {
     "ename": "IndexError",
     "evalue": "list index out of range",
     "output_type": "error",
     "traceback": [
      "\u001b[0;31m---------------------------------------------------------------------------\u001b[0m",
      "\u001b[0;31mIndexError\u001b[0m                                Traceback (most recent call last)",
      "Cell \u001b[0;32mIn [60], line 15\u001b[0m\n\u001b[1;32m     12\u001b[0m data\u001b[39m=\u001b[39mline\u001b[39m.\u001b[39msplit()\n\u001b[1;32m     14\u001b[0m \u001b[39m# clean data\u001b[39;00m\n\u001b[0;32m---> 15\u001b[0m device \u001b[39m=\u001b[39m data[\u001b[39m0\u001b[39;49m]\n\u001b[1;32m     16\u001b[0m txt \u001b[39m=\u001b[39m \u001b[39m\"\u001b[39m\u001b[39m/dev/\u001b[39m\u001b[39m\"\u001b[39m\n\u001b[1;32m     17\u001b[0m dev \u001b[39m=\u001b[39m re\u001b[39m.\u001b[39msub(txt, \u001b[39m\"\u001b[39m\u001b[39m\"\u001b[39m,device)\n",
      "\u001b[0;31mIndexError\u001b[0m: list index out of range"
     ]
    }
   ],
   "source": [
    "import re\n",
    "\n",
    "# tabular data\n",
    "columns = ['mounted', 'size', 'used', 'avail' ]\n",
    "print(f\" {'mount' : ^10}{'size' : ^10}{'used' : ^10}{'avail' : ^10}\")\n",
    "\n",
    "# Open disk_space file\n",
    "with open(\"disk_space.txt\", \"r\") as f:\n",
    "\n",
    "# read data \n",
    "    for line in f:\n",
    "        data=line.split()\n",
    "        \n",
    "        # clean data\n",
    "        device = data[0]\n",
    "        txt = \"/dev/\"\n",
    "        dev = re.sub(txt, \"\",device)\n",
    "        if (dev == 'devfs'): continue\n",
    "        if (dev == 'map'): continue\n",
    "        if (dev == 'Filesystem'): continue\n",
    "\n",
    "        # process data\n",
    "        filesystem = data[0]\n",
    "        size = data[1]\n",
    "        used = data[2]\n",
    "        avail = data[3]\n",
    "        mounted = data[8]\n",
    "        print(mounted, size, used, avail, )\n"
   ]
  },
  {
   "cell_type": "code",
   "execution_count": null,
   "metadata": {},
   "outputs": [],
   "source": [
    "import re\n",
    "import pandas as pd\n",
    "import csv\n",
    "\n",
    "# tabular data\n",
    "columns = ['mounted', 'size', 'used', 'avail' ]\n",
    "print(f\" {'mount' : ^10}{'size' : ^10}{'used' : ^10}{'avail' : ^10}\")\n",
    "\n",
    "# Open disk_space file\n",
    "with open(\"disk_space.txt\", \"r\") as f:\n",
    "\n",
    "# read data \n",
    "    for line in f:\n",
    "        data=line.split()\n",
    "        \n",
    "        # clean data\n",
    "        device = data[0]\n",
    "        txt = \"/dev/\"\n",
    "        dev = re.sub(txt, \"\",device)\n",
    "        if (dev == 'devfs'): continue\n",
    "        if (dev == 'map'): continue\n",
    "        if (dev == 'Filesystem'): continue\n",
    "\n",
    "        # process data\n",
    "        filesystem = data[0]\n",
    "        size = data[1]\n",
    "        used = data[2]\n",
    "        avail = data[3]\n",
    "        mounted = data[8]\n",
    "\n",
    "        data = [ data]\n",
    "        df = pd.DataFrame(data)\n",
    "\n",
    "        pd.columns = ['filesytem', 'size', 'used', 'avail', 'mounted']\n",
    "\n",
    "        print(df)\n"
   ]
  },
  {
   "cell_type": "markdown",
   "metadata": {},
   "source": []
  },
  {
   "cell_type": "code",
   "execution_count": 93,
   "metadata": {},
   "outputs": [
    {
     "ename": "AttributeError",
     "evalue": "'DataFrame' object has no attribute 'subprocess'",
     "output_type": "error",
     "traceback": [
      "\u001b[0;31m---------------------------------------------------------------------------\u001b[0m",
      "\u001b[0;31mAttributeError\u001b[0m                            Traceback (most recent call last)",
      "Cell \u001b[0;32mIn [93], line 8\u001b[0m\n\u001b[1;32m      4\u001b[0m \u001b[39mimport\u001b[39;00m \u001b[39msubprocess\u001b[39;00m\n\u001b[1;32m      6\u001b[0m \u001b[39m# run shell command\u001b[39;00m\n\u001b[0;32m----> 8\u001b[0m df \u001b[39m=\u001b[39m df\u001b[39m.\u001b[39;49msubprocess\u001b[39m.\u001b[39mrun([\u001b[39m\"\u001b[39m\u001b[39mdu\u001b[39m\u001b[39m\"\u001b[39m, \u001b[39m\"\u001b[39m\u001b[39m-h | perl -pne \u001b[39m\u001b[39m'\u001b[39m\u001b[39ms/ +/,/g\u001b[39m\u001b[39m'\u001b[39m\u001b[39m > disk_data.txt \u001b[39m\u001b[39m\"\u001b[39m ])\n\u001b[1;32m     10\u001b[0m \u001b[39m# tabular data\u001b[39;00m\n\u001b[1;32m     11\u001b[0m \n\u001b[1;32m     12\u001b[0m \u001b[39m# df = pd.read_csv('disk_data.txt')\u001b[39;00m\n\u001b[1;32m     13\u001b[0m df\n",
      "File \u001b[0;32m/Library/Frameworks/Python.framework/Versions/3.10/lib/python3.10/site-packages/pandas/core/generic.py:5575\u001b[0m, in \u001b[0;36mNDFrame.__getattr__\u001b[0;34m(self, name)\u001b[0m\n\u001b[1;32m   5568\u001b[0m \u001b[39mif\u001b[39;00m (\n\u001b[1;32m   5569\u001b[0m     name \u001b[39mnot\u001b[39;00m \u001b[39min\u001b[39;00m \u001b[39mself\u001b[39m\u001b[39m.\u001b[39m_internal_names_set\n\u001b[1;32m   5570\u001b[0m     \u001b[39mand\u001b[39;00m name \u001b[39mnot\u001b[39;00m \u001b[39min\u001b[39;00m \u001b[39mself\u001b[39m\u001b[39m.\u001b[39m_metadata\n\u001b[1;32m   5571\u001b[0m     \u001b[39mand\u001b[39;00m name \u001b[39mnot\u001b[39;00m \u001b[39min\u001b[39;00m \u001b[39mself\u001b[39m\u001b[39m.\u001b[39m_accessors\n\u001b[1;32m   5572\u001b[0m     \u001b[39mand\u001b[39;00m \u001b[39mself\u001b[39m\u001b[39m.\u001b[39m_info_axis\u001b[39m.\u001b[39m_can_hold_identifiers_and_holds_name(name)\n\u001b[1;32m   5573\u001b[0m ):\n\u001b[1;32m   5574\u001b[0m     \u001b[39mreturn\u001b[39;00m \u001b[39mself\u001b[39m[name]\n\u001b[0;32m-> 5575\u001b[0m \u001b[39mreturn\u001b[39;00m \u001b[39mobject\u001b[39;49m\u001b[39m.\u001b[39;49m\u001b[39m__getattribute__\u001b[39;49m(\u001b[39mself\u001b[39;49m, name)\n",
      "\u001b[0;31mAttributeError\u001b[0m: 'DataFrame' object has no attribute 'subprocess'"
     ]
    }
   ],
   "source": [
    "import re\n",
    "import pandas as pd\n",
    "import numpy as np\n",
    "import subprocess\n",
    "\n",
    "# run shell command\n",
    "\n",
    "df = df.subprocess.run([\"du\", \"-h | perl -pne 's/ +/,/g' > disk_data.txt \" ])\n",
    "\n",
    "# tabular data\n",
    "\n",
    "# df = pd.read_csv('disk_data.txt')\n",
    "df\n",
    "# df.sort_values(by=\"Filesystem\")\n",
    "# df.T\n",
    "# df.describe()\n",
    "# df.head()\n",
    "# df.tail()\n",
    "\n",
    "# df.dtypes\n",
    "# type(df)\n",
    "\n",
    "# print(df)"
   ]
  }
 ],
 "metadata": {
  "kernelspec": {
   "display_name": "Python 3",
   "language": "python",
   "name": "python3"
  },
  "language_info": {
   "codemirror_mode": {
    "name": "ipython",
    "version": 3
   },
   "file_extension": ".py",
   "mimetype": "text/x-python",
   "name": "python",
   "nbconvert_exporter": "python",
   "pygments_lexer": "ipython3",
   "version": "3.10.7"
  },
  "orig_nbformat": 4,
  "vscode": {
   "interpreter": {
    "hash": "949777d72b0d2535278d3dc13498b2535136f6dfe0678499012e853ee9abcab1"
   }
  }
 },
 "nbformat": 4,
 "nbformat_minor": 2
}
