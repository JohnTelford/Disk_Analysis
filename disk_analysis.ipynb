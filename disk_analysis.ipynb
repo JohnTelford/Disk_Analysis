{
 "cells": [
  {
   "attachments": {},
   "cell_type": "markdown",
   "metadata": {},
   "source": [
    "## Disk Space Analysis"
   ]
  },
  {
   "attachments": {},
   "cell_type": "markdown",
   "metadata": {},
   "source": [
    "### shell commands\n",
    "\n",
    "```shell\n",
    "# Run Shell Commands Before Processing\n",
    "\n",
    "# disk data\n",
    "df -H > disk_data.txt\n",
    "# sorted for disk processing\n",
    "sort +8 -d -o disk_space.txt disk_data.txt\n",
    "```\n",
    "\n"
   ]
  },
  {
   "attachments": {},
   "cell_type": "markdown",
   "metadata": {},
   "source": [
    "### Disk Space Processing"
   ]
  },
  {
   "cell_type": "code",
   "execution_count": 26,
   "metadata": {},
   "outputs": [
    {
     "name": "stdout",
     "output_type": "stream",
     "text": [
      "   mount      size      used     avail   \n",
      "/ 500G 15G 23G\n",
      "/System/Volumes/Data 500G 447G 23G\n",
      "/System/Volumes/Preboot 500G 867M 23G\n",
      "/System/Volumes/Update 500G 9.9M 23G\n",
      "/System/Volumes/VM 500G 2.1G 23G\n",
      "/Volumes/0-ARCH 5.0T 2.9T 2.1T\n",
      "/Volumes/0-ARCHBack 5.0T 2.3T 2.7T\n",
      "/Volumes/0-HDBACK 3.0T 942k 223G\n",
      "/Volumes/0-HDOff 3.0T 803k 156G\n",
      "/Volumes/0-Mac5KCont 4.0T 94G 1.6T\n",
      "/Volumes/0-SSD 121G 778k 121G\n",
      "/Volumes/0-SSDBoot 500G 762k 23G\n",
      "/Volumes/1-Backup-Mac5KBoot 4.0T 273G 1.6T\n",
      "/Volumes/1-Dev 4.0T 13G 1.6T\n",
      "/Volumes/1-EagleFiler 3.0T 147G 156G\n",
      "/Volumes/1-Johntelford 4.0T 179G 1.6T\n",
      "/Volumes/1-Lightroom 3.0T 415G 223G\n",
      "/Volumes/1-LightroomLib 3.0T 105G 156G\n",
      "/Volumes/1-Media 4.0T 1.8T 1.6T\n",
      "/Volumes/1-iA-Writer 3.0T 206M 156G\n",
      "/Volumes/2-Backup-Mac5KBoot 3.0T 270G 223G\n",
      "/Volumes/2-Dev 3.0T 29G 156G\n",
      "/Volumes/2-EagleFiler 3.0T 148G 223G\n",
      "/Volumes/2-Lightroom 3.0T 416G 156G\n",
      "/Volumes/2-LightroomLib 3.0T 105G 223G\n",
      "/Volumes/2-Media 3.0T 1.9T 156G\n",
      "/Volumes/2-iA-Writer 3.0T 171M 223G\n",
      "/Volumes/3-Backup-Mac5KBoot 3.0T 272G 156G\n",
      "/Volumes/3-Dev 3.0T 12G 223G\n",
      "/Volumes/3-IA-Writer 4.0T 39M 1.6T\n",
      "/Volumes/3-Media 3.0T 1.8T 223G\n",
      "/Volumes/5KTimeMachine 999G 768G 231G\n",
      "/Volumes/Dev 500G 11G 23G\n",
      "/Volumes/Q-Lightroom 4.0T 89M 1.6T\n",
      "/Volumes/books 4.0T 19G 1.6T\n",
      "/Volumes/nzb 4.0T 379M 1.6T\n"
     ]
    }
   ],
   "source": [
    "import re\n",
    "\n",
    "# tabular data\n",
    "columns = ['mounted', 'size', 'used', 'avail' ]\n",
    "print(f\" {'mount' : ^10}{'size' : ^10}{'used' : ^10}{'avail' : ^10}\")\n",
    "\n",
    "# Open disk_space file\n",
    "with open(\"disk_space.txt\", \"r\") as f:\n",
    "\n",
    "# read data \n",
    "    for line in f:\n",
    "        data=line.split()\n",
    "        \n",
    "        # clean data\n",
    "        device = data[0]\n",
    "        txt = \"/dev/\"\n",
    "        dev = re.sub(txt, \"\",device)\n",
    "        if (dev == 'devfs'): continue\n",
    "        if (dev == 'map'): continue\n",
    "        if (dev == 'Filesystem'): continue\n",
    "\n",
    "        # process data\n",
    "        filesystem = data[0]\n",
    "        size = data[1]\n",
    "        used = data[2]\n",
    "        avail = data[3]\n",
    "        mounted = data[8]\n",
    "        print(mounted, size, used, avail, )\n"
   ]
  }
 ],
 "metadata": {
  "kernelspec": {
   "display_name": "Python 3",
   "language": "python",
   "name": "python3"
  },
  "language_info": {
   "codemirror_mode": {
    "name": "ipython",
    "version": 3
   },
   "file_extension": ".py",
   "mimetype": "text/x-python",
   "name": "python",
   "nbconvert_exporter": "python",
   "pygments_lexer": "ipython3",
   "version": "3.10.7"
  },
  "orig_nbformat": 4,
  "vscode": {
   "interpreter": {
    "hash": "949777d72b0d2535278d3dc13498b2535136f6dfe0678499012e853ee9abcab1"
   }
  }
 },
 "nbformat": 4,
 "nbformat_minor": 2
}
