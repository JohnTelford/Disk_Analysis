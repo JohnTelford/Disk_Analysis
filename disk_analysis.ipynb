{
 "cells": [
  {
   "attachments": {},
   "cell_type": "markdown",
   "metadata": {},
   "source": [
    "## Disk Space Analysis\n",
    "\n",
    "Refactor farm of APFS containers and volumes\n"
   ]
  },
  {
   "attachments": {},
   "cell_type": "markdown",
   "metadata": {},
   "source": [
    "### Disk Space Processing"
   ]
  },
  {
   "cell_type": "code",
   "execution_count": 44,
   "metadata": {},
   "outputs": [
    {
     "name": "stdout",
     "output_type": "stream",
     "text": [
      "Filesystem,Size,Used,Avail,Capacity,iused,ifree,%iused,Mounted,on\n",
      "\n",
      "devfs,425k,425k,0B,100%,1439,0,100%,/dev\n",
      "\n",
      "map,auto_home,0B,0B,0B,100%,0,0,100%,/System/Volumes/Data/home\n",
      "\n",
      "com.apple.TimeMachine.2022-09-04-170744.local@/dev/disk4s1,500G,420G,64G,87%,2578019,4879239421,0%,/Volumes/com.apple.TimeMachine.localsnapshots/Backups.backupdb/Mac5K/2022-09-04-170744/Mac5KBoot,-,Data\n",
      "\n"
     ]
    }
   ],
   "source": [
    "import pandas as pd\n",
    "import re\n",
    "\n",
    "# create disk data DataFrame\n",
    "#   disk data\n",
    "!df -H | perl -pne 's/ +/,/g' > data.csv\n",
    "\n",
    "#   Clean\n",
    "with open('data.csv', 'r') as input_file:\n",
    "   lines = input_file.readlines()\n",
    "\n",
    "with open('data.csv', 'w') as output_file:\n",
    "  for line in lines:\n",
    "    pattern = r\"^Filesystem|^devfs|^map|com\"\n",
    "    if re.search(pattern, line):\n",
    "        print(line)\n",
    "        output_file.write(line)\n",
    "\n",
    "#   DataFrame\n",
    "# df = pd.read_csv('data.csv' )\n",
    "\n",
    "# clean and tidy data \n",
    "\n",
    "#   clean\n",
    "# df = df.drop([2,13], axis=0)\n",
    "# df = df.drop(columns=['on', 'ifree', \"iused\", '%iused'])\n",
    "\n",
    "# #   tidy\n",
    "# df = df.sort_values(by =['Avail',  'Mounted'])\n",
    "# !date\n",
    "# df\n",
    "\n"
   ]
  }
 ],
 "metadata": {
  "kernelspec": {
   "display_name": "Python 3",
   "language": "python",
   "name": "python3"
  },
  "language_info": {
   "codemirror_mode": {
    "name": "ipython",
    "version": 3
   },
   "file_extension": ".py",
   "mimetype": "text/x-python",
   "name": "python",
   "nbconvert_exporter": "python",
   "pygments_lexer": "ipython3",
   "version": "3.10.7"
  },
  "orig_nbformat": 4,
  "vscode": {
   "interpreter": {
    "hash": "949777d72b0d2535278d3dc13498b2535136f6dfe0678499012e853ee9abcab1"
   }
  }
 },
 "nbformat": 4,
 "nbformat_minor": 2
}
