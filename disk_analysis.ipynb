{
 "cells": [
  {
   "attachments": {},
   "cell_type": "markdown",
   "metadata": {},
   "source": [
    "## Disk Space Analysis"
   ]
  },
  {
   "attachments": {},
   "cell_type": "markdown",
   "metadata": {},
   "source": [
    "### Read disk info file\n"
   ]
  },
  {
   "cell_type": "code",
   "execution_count": 6,
   "metadata": {},
   "outputs": [
    {
     "name": "stdout",
     "output_type": "stream",
     "text": [
      "Mounted Size Used Avail\n",
      "/ 500G 15G 31G\n",
      "/dev 422k 422k 0B\n",
      "/System/Volumes/VM 500G 2.1G 31G\n",
      "/System/Volumes/Preboot 500G 867M 31G\n",
      "/System/Volumes/Update 500G 9.9M 31G\n",
      "/System/Volumes/Data 500G 439G 31G\n",
      "/Volumes/0-SSD 121G 774k 121G\n",
      "100% auto_home 0B 0B\n",
      "/Volumes/0-SSDBoot 500G 766k 31G\n",
      "/Volumes/Dev 500G 11G 31G\n",
      "/Volumes/0-ARCHBack 5.0T 2.3T 2.7T\n",
      "/Volumes/0-ARCH 5.0T 2.9T 2.1T\n",
      "/Volumes/5KTimeMachine 999G 768G 231G\n",
      "/Volumes/0-HDOff 3.0T 795k 160G\n",
      "/Volumes/2-Dev 3.0T 29G 160G\n",
      "/Volumes/3-Backup-Mac5KBoot 3.0T 269G 160G\n",
      "/Volumes/2-Media 3.0T 1.9T 160G\n",
      "/Volumes/0-Mac5KCont 4.0T 94G 1.6T\n",
      "/Volumes/1-Dev 4.0T 13G 1.6T\n",
      "/Volumes/2-Backup-Mac5KBoot 3.0T 266G 226G\n",
      "/Volumes/1-Johntelford 4.0T 178G 1.6T\n",
      "/Volumes/1-Backup-Mac5KBoot 4.0T 270G 1.6T\n",
      "/Volumes/2-EagleFiler 3.0T 148G 226G\n",
      "/Volumes/1-Media 4.0T 1.8T 1.6T\n",
      "/Volumes/1-Lightroom 3.0T 415G 226G\n",
      "/Volumes/nzb 4.0T 36G 1.6T\n",
      "/Volumes/books 4.0T 19G 1.6T\n",
      "/Volumes/3-Dev 3.0T 12G 226G\n",
      "/Volumes/3-Media 3.0T 1.8T 226G\n",
      "/Volumes/0-HDBACK 3.0T 934k 226G\n",
      "/Volumes/2-Lightroom 3.0T 416G 160G\n",
      "/Volumes/1-iA-Writer 3.0T 206M 160G\n",
      "/Volumes/1-EagleFiler 3.0T 147G 160G\n",
      "/Volumes/1-LightroomLib 3.0T 105G 160G\n",
      "/Volumes/2-LightroomLib 3.0T 105G 226G\n",
      "/Volumes/2-iA-Writer 3.0T 170M 226G\n",
      "/Volumes/Aegisub-3.2.2 77M 74M 3.2M\n",
      "/Volumes/3-IA-Writer 4.0T 38M 1.6T\n"
     ]
    }
   ],
   "source": [
    "# Open the free disk space text file for reading\n",
    "with open(\"free_disk_space.txt\", \"r\") as f:\n",
    "\n",
    "# Read line \n",
    "    for line in f:\n",
    "        data=line.split()\n",
    "        \n",
    "        # data\n",
    "        mounted = data[8]\n",
    "        size = data[1]\n",
    "        used = data[2]\n",
    "        avail = data[3]\n",
    "        print(mounted, size, used, avail)\n",
    "\n",
    "# Close the file to free up system resources\n",
    "# file_object.close()\n",
    "\n",
    "# file = open('newfile.txt',w) \n",
    "# # Iterate over the lines\n",
    "# for line in lines:\n",
    "#     # Get each line's content\n",
    "#     content = line.strip()\n",
    "\n",
    "#     # Split content\n",
    "#     file.write\n",
    "\n",
    "    \n"
   ]
  }
 ],
 "metadata": {
  "kernelspec": {
   "display_name": "Python 3",
   "language": "python",
   "name": "python3"
  },
  "language_info": {
   "codemirror_mode": {
    "name": "ipython",
    "version": 3
   },
   "file_extension": ".py",
   "mimetype": "text/x-python",
   "name": "python",
   "nbconvert_exporter": "python",
   "pygments_lexer": "ipython3",
   "version": "3.10.7"
  },
  "orig_nbformat": 4,
  "vscode": {
   "interpreter": {
    "hash": "949777d72b0d2535278d3dc13498b2535136f6dfe0678499012e853ee9abcab1"
   }
  }
 },
 "nbformat": 4,
 "nbformat_minor": 2
}
