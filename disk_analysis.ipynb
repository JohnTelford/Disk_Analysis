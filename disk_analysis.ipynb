{
 "cells": [
  {
   "attachments": {},
   "cell_type": "markdown",
   "metadata": {},
   "source": [
    "## Disk Space Analysis"
   ]
  },
  {
   "attachments": {},
   "cell_type": "markdown",
   "metadata": {},
   "source": [
    "### shell commands\n",
    "\n",
    "```shell\n",
    "# disk data\n",
    "df -H > disk_data.txt\n",
    "# sorted for disk processing\n",
    "sort +8 -d -o disk_space.txt disk_data.txt\n",
    "```\n",
    "```python\n",
    "import subprocess\n",
    "\n",
    "# Run the ping command with a timeout of 5 seconds\n",
    "proc = subprocess.Popen([\"ping\", \"-c\", \"4\", \"google.com\"], stdout=subprocess.PIPE, stderr=subprocess.PIPE, timeout=5) \n",
    "\n",
    "# Grab the output from the command\n",
    "out, err = proc.communicate()\n",
    "\n",
    "# Print the output\n",
    "print(\"Out: \", out.decode(\"utf-8\"))\n",
    "print(\"Err: \", err.decode(\"utf-8\"))\n",
    "```"
   ]
  },
  {
   "attachments": {},
   "cell_type": "markdown",
   "metadata": {},
   "source": [
    "### Create and Execute shell script"
   ]
  },
  {
   "cell_type": "code",
   "execution_count": null,
   "metadata": {},
   "outputs": [],
   "source": []
  },
  {
   "attachments": {},
   "cell_type": "markdown",
   "metadata": {},
   "source": [
    "### Process data"
   ]
  },
  {
   "cell_type": "code",
   "execution_count": 49,
   "metadata": {},
   "outputs": [
    {
     "name": "stdout",
     "output_type": "stream",
     "text": [
      " disk4s6s1, /, 23G\n",
      " disk9s2, /Volumes/0-ARCH, 2.1T\n",
      " disk11s1, /Volumes/0-ARCHBack, 2.7T\n",
      " disk13s10, /Volumes/0-HDBACK, 223G\n",
      " disk12s1, /Volumes/0-HDOff, 156G\n",
      " disk14s1, /Volumes/0-Mac5KCont, 1.6T\n",
      " disk2s1, /Volumes/0-SSD, 121G\n",
      " disk4s5, /Volumes/0-SSDBoot, 23G\n",
      " disk14s4, /Volumes/1-Backup-Mac5KBoot, 1.6T\n",
      " disk14s2, /Volumes/1-Dev, 1.6T\n",
      " disk12s10, /Volumes/1-EagleFiler, 156G\n",
      " disk14s3, /Volumes/1-Johntelford, 1.6T\n",
      " disk13s3, /Volumes/1-Lightroom, 223G\n",
      " disk12s12, /Volumes/1-LightroomLib, 156G\n",
      " disk14s5, /Volumes/1-Media, 1.6T\n",
      " disk12s8, /Volumes/1-iA-Writer, 156G\n",
      " disk13s1, /Volumes/2-Backup-Mac5KBoot, 223G\n",
      " disk12s4, /Volumes/2-Dev, 156G\n",
      " disk13s2, /Volumes/2-EagleFiler, 223G\n",
      " disk12s7, /Volumes/2-Lightroom, 156G\n",
      " disk13s11, /Volumes/2-LightroomLib, 223G\n",
      " disk12s6, /Volumes/2-Media, 156G\n",
      " disk13s13, /Volumes/2-iA-Writer, 223G\n",
      " disk12s5, /Volumes/3-Backup-Mac5KBoot, 156G\n",
      " disk13s4, /Volumes/3-Dev, 223G\n",
      " disk14s8, /Volumes/3-IA-Writer, 1.6T\n",
      " disk13s6, /Volumes/3-Media, 223G\n",
      " disk7s2, /Volumes/5KTimeMachine, 231G\n",
      " disk4s7, /Volumes/Dev, 23G\n",
      " disk14s9, /Volumes/Q-Lightroom, 1.6T\n",
      " disk14s7, /Volumes/books, 1.6T\n",
      " disk14s6, /Volumes/nzb, 1.6T\n"
     ]
    }
   ],
   "source": [
    "import re\n",
    "\n",
    "# Open disk_space_data.txt file \n",
    "with open(\"disk_space.txt\", \"r\") as f:\n",
    "\n",
    "    columns = ['dev', 'mount', 'avail' ]\n",
    "    # print(f\" {'dev' : ^10}{'mount' : ^10}{'avail' : ^10}\")\n",
    "\n",
    "\n",
    "# Read file \n",
    "    width = 20\n",
    "    for line in f:\n",
    "        data=line.split()\n",
    "        \n",
    "        # clean data\n",
    "\n",
    "        device = data[0]\n",
    "        txt = \"/dev/\"\n",
    "        dev = re.sub(txt, \"\",device)\n",
    "        if (dev == 'devfs'): continue\n",
    "        if (dev == 'map'): continue\n",
    "\n",
    "        mount = data[8]\n",
    "        if '/System/' in line: continue\n",
    "        if 'Filesystem' in line: continue\n",
    "\n",
    "        # process data\n",
    "        size = data[1]\n",
    "        used = data[2]\n",
    "        avail = data[3]\n",
    "        # print(dev, mounted, size, used, avail)\n",
    "\n",
    "        # outheading = \"dev\\tmount\\tavail\"\n",
    "        # print(outheading)\n",
    "        # print(dev, \"\\t\",mount, \"\\t\", avail,\"\\t\")\n",
    "\n",
    "        outdata = \"dev\\tmount\\tavail\"\n",
    "\n",
    "\n",
    "\n",
    "        print(f' {dev}, {mount}, {avail}'  )\n",
    "\n",
    "\n",
    "# Close the file to free up system resources\n",
    "# file_object.close()\n",
    "\n",
    "# file = open('newfile.txt',w) \n",
    "# # Iterate over the lines\n",
    "# for line in lines:\n",
    "#     # Get each line's content\n",
    "#     content = line.strip()\n",
    "\n",
    "#     # Split content\n",
    "#     file.write\n",
    "\n",
    "    \n"
   ]
  }
 ],
 "metadata": {
  "kernelspec": {
   "display_name": "Python 3",
   "language": "python",
   "name": "python3"
  },
  "language_info": {
   "codemirror_mode": {
    "name": "ipython",
    "version": 3
   },
   "file_extension": ".py",
   "mimetype": "text/x-python",
   "name": "python",
   "nbconvert_exporter": "python",
   "pygments_lexer": "ipython3",
   "version": "3.10.7"
  },
  "orig_nbformat": 4,
  "vscode": {
   "interpreter": {
    "hash": "949777d72b0d2535278d3dc13498b2535136f6dfe0678499012e853ee9abcab1"
   }
  }
 },
 "nbformat": 4,
 "nbformat_minor": 2
}
