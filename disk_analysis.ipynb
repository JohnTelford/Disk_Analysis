{
 "cells": [
  {
   "attachments": {},
   "cell_type": "markdown",
   "metadata": {},
   "source": [
    "## Disk Space Analysis"
   ]
  },
  {
   "attachments": {},
   "cell_type": "markdown",
   "metadata": {},
   "source": [
    "### Read disk info file\n"
   ]
  },
  {
   "cell_type": "code",
   "execution_count": 19,
   "metadata": {},
   "outputs": [
    {
     "name": "stdout",
     "output_type": "stream",
     "text": [
      " Filesystem          Mounted\n",
      " disk4s4          /System/Volumes/VM\n",
      " disk4s2          /System/Volumes/Preboot\n",
      " disk4s8          /System/Volumes/Update\n",
      " disk4s1          /System/Volumes/Data\n",
      " disk2s1          /Volumes/0-SSD\n",
      " disk4s5          /Volumes/0-SSDBoot\n",
      " disk4s7          /Volumes/Dev\n",
      " disk11s1          /Volumes/0-ARCHBack\n",
      " disk9s2          /Volumes/0-ARCH\n",
      " disk7s2          /Volumes/5KTimeMachine\n",
      " disk12s1          /Volumes/0-HDOff\n",
      " disk12s4          /Volumes/2-Dev\n",
      " disk12s5          /Volumes/3-Backup-Mac5KBoot\n",
      " disk12s6          /Volumes/2-Media\n",
      " disk14s1          /Volumes/0-Mac5KCont\n",
      " disk14s2          /Volumes/1-Dev\n",
      " disk13s1          /Volumes/2-Backup-Mac5KBoot\n",
      " disk14s3          /Volumes/1-Johntelford\n",
      " disk14s4          /Volumes/1-Backup-Mac5KBoot\n",
      " disk13s2          /Volumes/2-EagleFiler\n",
      " disk14s5          /Volumes/1-Media\n",
      " disk13s3          /Volumes/1-Lightroom\n",
      " disk14s6          /Volumes/nzb\n",
      " disk14s7          /Volumes/books\n",
      " disk13s4          /Volumes/3-Dev\n",
      " disk13s6          /Volumes/3-Media\n",
      " disk13s10          /Volumes/0-HDBACK\n",
      " disk12s7          /Volumes/2-Lightroom\n",
      " disk12s8          /Volumes/1-iA-Writer\n",
      " disk12s10          /Volumes/1-EagleFiler\n",
      " disk12s12          /Volumes/1-LightroomLib\n",
      " disk13s11          /Volumes/2-LightroomLib\n",
      " disk13s13          /Volumes/2-iA-Writer\n",
      " disk15s1          /Volumes/Aegisub-3.2.2\n",
      " disk14s8          /Volumes/3-IA-Writer\n"
     ]
    }
   ],
   "source": [
    "import re\n",
    "\n",
    "# Open the free disk space text file for reading\n",
    "with open(\"free_disk_space.txt\", \"r\") as f:\n",
    "\n",
    "# Read line \n",
    "    for line in f:\n",
    "        data=line.split()\n",
    "        \n",
    "        # clean data\n",
    "\n",
    "        # process data\n",
    "\n",
    "        device = data[0]\n",
    "        txt = \"/dev/\"\n",
    "        dev = re.sub(txt, \"\",device)\n",
    "        if (dev == 'devfs'): continue\n",
    "        if (dev == 'map'): continue\n",
    "\n",
    "        mounted = data[8]\n",
    "        if (mounted == '/') : continue\n",
    "\n",
    "\n",
    "        size = data[1]\n",
    "        used = data[2]\n",
    "        avail = data[3]\n",
    "        # print(dev, mounted, size, used, avail)\n",
    "        print(f' {dev}          {mounted}' )\n",
    "\n",
    "# Close the file to free up system resources\n",
    "# file_object.close()\n",
    "\n",
    "# file = open('newfile.txt',w) \n",
    "# # Iterate over the lines\n",
    "# for line in lines:\n",
    "#     # Get each line's content\n",
    "#     content = line.strip()\n",
    "\n",
    "#     # Split content\n",
    "#     file.write\n",
    "\n",
    "    \n"
   ]
  }
 ],
 "metadata": {
  "kernelspec": {
   "display_name": "Python 3",
   "language": "python",
   "name": "python3"
  },
  "language_info": {
   "codemirror_mode": {
    "name": "ipython",
    "version": 3
   },
   "file_extension": ".py",
   "mimetype": "text/x-python",
   "name": "python",
   "nbconvert_exporter": "python",
   "pygments_lexer": "ipython3",
   "version": "3.10.7"
  },
  "orig_nbformat": 4,
  "vscode": {
   "interpreter": {
    "hash": "949777d72b0d2535278d3dc13498b2535136f6dfe0678499012e853ee9abcab1"
   }
  }
 },
 "nbformat": 4,
 "nbformat_minor": 2
}
